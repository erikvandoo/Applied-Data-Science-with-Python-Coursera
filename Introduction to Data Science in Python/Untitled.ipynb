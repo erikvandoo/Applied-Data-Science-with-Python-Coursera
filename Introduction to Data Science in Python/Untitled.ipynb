{
 "cells": [
  {
   "cell_type": "code",
   "execution_count": 1,
   "metadata": {
    "collapsed": true
   },
   "outputs": [],
   "source": [
    "!mkdir downloads\n"
   ]
  },
  {
   "cell_type": "code",
   "execution_count": 2,
   "metadata": {
    "collapsed": true
   },
   "outputs": [],
   "source": [
    "%%bash\n",
    "tar -czf archive.tar.gz downloads"
   ]
  },
  {
   "cell_type": "code",
   "execution_count": 4,
   "metadata": {},
   "outputs": [
    {
     "ename": "SyntaxError",
     "evalue": "invalid syntax (<ipython-input-4-883c578d4950>, line 1)",
     "output_type": "error",
     "traceback": [
      "\u001b[0;36m  File \u001b[0;32m\"<ipython-input-4-883c578d4950>\"\u001b[0;36m, line \u001b[0;32m1\u001b[0m\n\u001b[0;31m    tar czf applied_datascience.tar.gz  downloads\u001b[0m\n\u001b[0m          ^\u001b[0m\n\u001b[0;31mSyntaxError\u001b[0m\u001b[0;31m:\u001b[0m invalid syntax\n"
     ]
    }
   ],
   "source": [
    "tar czf applied_datascience.tar.gz  downloads"
   ]
  },
  {
   "cell_type": "code",
   "execution_count": 6,
   "metadata": {},
   "outputs": [
    {
     "name": "stdout",
     "output_type": "stream",
     "text": [
      "Assignment 2.ipynb\n",
      "Assignment 3.ipynb\n",
      "Assignment 4.ipynb\n",
      "City_Zhvi_AllHomes.csv\n",
      "Energy Indicators.xls\n",
      "Untitled.ipynb\n",
      "Week 1.ipynb\n",
      "Week 2.ipynb\n",
      "Week 3.ipynb\n",
      "Week 4.ipynb\n",
      "allfiles.tar.gz\n",
      "archive.tar.gz\n",
      "cars.csv\n",
      "census.csv\n",
      "gdplev.xls\n",
      "grades.csv\n",
      "log.csv\n",
      "log.txt\n",
      "mpg.csv\n",
      "notebook.tar.gz\n",
      "tar: notebook.tar.gz: file changed as we read it\n",
      "olympics.csv\n",
      "readonly/\n",
      "readonly/log.txt\n",
      "readonly/Week 4.ipynb\n",
      "readonly/grades.csv\n",
      "readonly/Assignment 3.ipynb\n",
      "readonly/log.csv\n",
      "readonly/scimagojr-3.xlsx\n",
      "readonly/olympics.csv\n",
      "readonly/university_towns.txt\n",
      "readonly/mpg.csv\n",
      "readonly/Week 2.ipynb\n",
      "readonly/Week 1.ipynb\n",
      "readonly/Assignment 4.ipynb\n",
      "readonly/world_bank.csv\n",
      "readonly/cars.csv\n",
      "readonly/CO-EST2015-alldata.pdf\n",
      "readonly/census.csv\n",
      "readonly/Assignment 2.ipynb\n",
      "readonly/gdplev.xls\n",
      "readonly/City_Zhvi_AllHomes.csv\n",
      "readonly/Week 3.ipynb\n",
      "readonly/Energy Indicators.xls\n",
      "scimagojr-3.xlsx\n",
      "university_towns.txt\n",
      "world_bank.csv\n"
     ]
    }
   ],
   "source": [
    "!tar chvfz notebook.tar.gz *"
   ]
  },
  {
   "cell_type": "code",
   "execution_count": null,
   "metadata": {
    "collapsed": true
   },
   "outputs": [],
   "source": []
  }
 ],
 "metadata": {
  "kernelspec": {
   "display_name": "Python 3",
   "language": "python",
   "name": "python3"
  },
  "language_info": {
   "codemirror_mode": {
    "name": "ipython",
    "version": 3
   },
   "file_extension": ".py",
   "mimetype": "text/x-python",
   "name": "python",
   "nbconvert_exporter": "python",
   "pygments_lexer": "ipython3",
   "version": "3.6.2"
  }
 },
 "nbformat": 4,
 "nbformat_minor": 2
}
